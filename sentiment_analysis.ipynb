{
 "cells": [
  {
   "cell_type": "code",
   "execution_count": 1,
   "metadata": {},
   "outputs": [
    {
     "name": "stderr",
     "output_type": "stream",
     "text": [
      "/Users/marianneargsino/Library/Python/3.9/lib/python/site-packages/urllib3/__init__.py:35: NotOpenSSLWarning: urllib3 v2 only supports OpenSSL 1.1.1+, currently the 'ssl' module is compiled with 'LibreSSL 2.8.3'. See: https://github.com/urllib3/urllib3/issues/3020\n",
      "  warnings.warn(\n"
     ]
    }
   ],
   "source": [
    "#import any necessary libraries\n",
    "import numpy as np\n",
    "import pandas as pd\n",
    "import spacy\n",
    "from spacytextblob.spacytextblob import SpacyTextBlob"
   ]
  },
  {
   "cell_type": "code",
   "execution_count": 2,
   "metadata": {},
   "outputs": [
    {
     "data": {
      "text/plain": [
       "<spacytextblob.spacytextblob.SpacyTextBlob at 0x120d1bb80>"
      ]
     },
     "execution_count": 2,
     "metadata": {},
     "output_type": "execute_result"
    }
   ],
   "source": [
    "#load the spacy english model (small) and add pipeline\n",
    "nlp = spacy.load('en_core_web_sm')\n",
    "nlp.add_pipe('spacytextblob')"
   ]
  },
  {
   "cell_type": "code",
   "execution_count": 3,
   "metadata": {},
   "outputs": [],
   "source": [
    "#load the dataset into pandas dataframe\n",
    "amazon_df = pd.read_csv('amazon_product_reviews.csv', low_memory=False)"
   ]
  },
  {
   "cell_type": "code",
   "execution_count": 15,
   "metadata": {},
   "outputs": [
    {
     "name": "stdout",
     "output_type": "stream",
     "text": [
      "0    I thought it would be as big as small paper bu...\n",
      "1    This kindle is light and easy to use especiall...\n",
      "2    Didnt know how much i'd use a kindle so went f...\n",
      "3    I am 100 happy with my purchase. I caught it o...\n",
      "4    Solid entry level Kindle. Great for kids. Gift...\n",
      "Name: reviews.text, dtype: object\n",
      "(5000,)\n"
     ]
    },
    {
     "data": {
      "text/plain": [
       "0"
      ]
     },
     "execution_count": 15,
     "metadata": {},
     "output_type": "execute_result"
    }
   ],
   "source": [
    "#display dataframe\n",
    "print(amazon_df[\"reviews.text\"].head())\n",
    "print(amazon_df[\"reviews.text\"].shape)\n",
    "amazon_df[\"reviews.text\"].isnull().sum()"
   ]
  },
  {
   "cell_type": "code",
   "execution_count": 5,
   "metadata": {},
   "outputs": [
    {
     "name": "stdout",
     "output_type": "stream",
     "text": [
      "(5000,)\n",
      "0    I thought it would be as big as small paper bu...\n",
      "1    This kindle is light and easy to use especiall...\n",
      "2    Didnt know how much i'd use a kindle so went f...\n",
      "3    I am 100 happy with my purchase. I caught it o...\n",
      "4    Solid entry level Kindle. Great for kids. Gift...\n",
      "Name: reviews.text, dtype: object\n"
     ]
    }
   ],
   "source": [
    "#drop any rows with missing values and prints\n",
    "clean_data = amazon_df.dropna(subset =[\"reviews.text\"])\n",
    "reviews_data = clean_data[\"reviews.text\"]\n",
    "print(reviews_data.shape)\n",
    "print(reviews_data.head())"
   ]
  },
  {
   "cell_type": "code",
   "execution_count": 6,
   "metadata": {},
   "outputs": [],
   "source": [
    "#create a function to preprocess 'reviews_data'\n",
    "def preprocess_text(text):\n",
    "    \n",
    "    doc = nlp(text)\n",
    "\n",
    "    preprocessed_tokens = []\n",
    "\n",
    "    for token in doc:\n",
    "        if not token.is_stop and not token.is_punct:\n",
    "            clean_token = token.lemma_.lower()\n",
    "            preprocessed_tokens.append(clean_token)\n",
    "\n",
    "    clean_text = \" \".join(preprocessed_tokens)\n",
    "    \n",
    "    return clean_text"
   ]
  },
  {
   "cell_type": "code",
   "execution_count": 7,
   "metadata": {},
   "outputs": [
    {
     "name": "stdout",
     "output_type": "stream",
     "text": [
      "0    think big small paper turn like palm think sma...\n",
      "1               kindle light easy use especially beach\n",
      "2    not know use kindle go low end m happy little ...\n",
      "3    100 happy purchase catch sale good price norma...\n",
      "4    solid entry level kindle great kid gifted kid ...\n",
      "Name: reviews.text, dtype: object\n"
     ]
    }
   ],
   "source": [
    "processed_reviews = reviews_data.apply(preprocess_text)\n",
    "print(processed_reviews.head())"
   ]
  },
  {
   "cell_type": "code",
   "execution_count": 9,
   "metadata": {},
   "outputs": [],
   "source": [
    "#create function to test sentiment in cleaned data\n",
    "def sentiment_analysis(clean_data):\n",
    "    for key, value in clean_data.items():\n",
    "        doc = nlp(value)\n",
    "        print(f'Review: {key}')\n",
    "        print(f'Sentiment: {doc._.blob.polarity}')"
   ]
  },
  {
   "cell_type": "code",
   "execution_count": 10,
   "metadata": {},
   "outputs": [
    {
     "name": "stdout",
     "output_type": "stream",
     "text": [
      "Review: 0\n",
      "Sentiment: -0.10897435897435898\n",
      "Review: 15\n",
      "Sentiment: 0.10000000000000003\n",
      "Review: 25\n",
      "Sentiment: 0.3333333333333333\n",
      "Review: 56\n",
      "Sentiment: 0.1\n",
      "Review: 85\n",
      "Sentiment: -0.0375\n",
      "Review: 156\n",
      "Sentiment: 0.5466666666666666\n",
      "Review: 200\n",
      "Sentiment: 0.38727272727272727\n",
      "Review: 348\n",
      "Sentiment: 0.5698979591836735\n",
      "Review: 420\n",
      "Sentiment: 0.8\n",
      "Review: 555\n",
      "Sentiment: 0.1\n",
      "Review: 760\n",
      "Sentiment: 0.5375\n"
     ]
    }
   ],
   "source": [
    "#load dataset and clean\n",
    "amazon_df = pd.read_csv('amazon_product_reviews.csv', sep=',', low_memory=False)\n",
    "amazon_df = amazon_df.dropna(subset=['reviews.text'])\n",
    "reviews_data = amazon_df['reviews.text'].iloc[[0, 15, 25, 56, 85, 156, 200, 348, 420, 555, 760]]\n",
    "\n",
    "sentiment_analysis(reviews_data)"
   ]
  },
  {
   "cell_type": "code",
   "execution_count": 11,
   "metadata": {},
   "outputs": [],
   "source": [
    "first_review = amazon_df['reviews.text'][203]\n",
    "second_review = amazon_df['reviews.text'][659]"
   ]
  },
  {
   "cell_type": "code",
   "execution_count": 12,
   "metadata": {},
   "outputs": [],
   "source": [
    "#load the spacy english model (medium)\n",
    "nlp = spacy.load('en_core_web_md')"
   ]
  },
  {
   "cell_type": "code",
   "execution_count": 13,
   "metadata": {},
   "outputs": [],
   "source": [
    "#create function to compare the similarity between two reviews\n",
    "def similarity (firt, second):\n",
    "    similarity_results = nlp(first).similarity(second)\n",
    "    return(similarity_results)"
   ]
  },
  {
   "cell_type": "code",
   "execution_count": 14,
   "metadata": {},
   "outputs": [
    {
     "name": "stdout",
     "output_type": "stream",
     "text": [
      "Review one: This Echo Show comes in handy. I use it almost as much as I thought I would. I am still learning all that it can do, but my favorite part is the screen. It‚Äôs not a huge deal, but if I could change one thing it would be a detachable power cable instead of hardwired.\n",
      "Review two: Great item to upgrade your house. Works very well.\n",
      "Similarity: ('This Echo Show comes in handy. I use it almost as much as I thought I would. I am still learning all that it can do, but my favorite part is the screen. It‚Äôs not a huge deal, but if I could change one thing it would be a detachable power cable instead of hardwired.', 'Great item to upgrade your house. Works very well.')\n"
     ]
    }
   ],
   "source": [
    "print(f\"Review one: {first_review}\")\n",
    "print(f\"Review two: {second_review}\")\n",
    "print(f\"Similarity: {first_review, second_review}\")\n"
   ]
  }
 ],
 "metadata": {
  "kernelspec": {
   "display_name": "Python 3",
   "language": "python",
   "name": "python3"
  },
  "language_info": {
   "codemirror_mode": {
    "name": "ipython",
    "version": 3
   },
   "file_extension": ".py",
   "mimetype": "text/x-python",
   "name": "python",
   "nbconvert_exporter": "python",
   "pygments_lexer": "ipython3",
   "version": "3.9.6"
  }
 },
 "nbformat": 4,
 "nbformat_minor": 2
}
